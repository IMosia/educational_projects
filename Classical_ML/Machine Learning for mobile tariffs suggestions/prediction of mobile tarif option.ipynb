{
 "cells": [
  {
   "cell_type": "markdown",
   "metadata": {},
   "source": [
    "# Recommendation of tariffs"
   ]
  },
  {
   "cell_type": "markdown",
   "metadata": {},
   "source": [
    "## Project Description\n",
    "Mobile operator \"Megaline\" found out: many customers use archive tariffs. They want to build a system capable of analyzing customer behavior and offer users a new tariff: \"Smart\" or \"Ultra\".\n",
    "They have at their disposal data on the behavior of customers who have already switched to these tariffs. We need to build a model for the classification task that selects the appropriate tariff. It is important that the model has good predictive power (minimum proportion of correct answers (accuracy) 0.75).  \n",
    "**Task:** Create a model to predict which tariff to offer to users.  \n",
    "**Objectives:** \n",
    "Perform job classification.  \n",
    "Test different models.\n",
    "Select the best one and test its performance."
   ]
  },
  {
   "cell_type": "markdown",
   "metadata": {},
   "source": [
    "## Data Exploration\n",
    "Let's import all the necessary libraries and verify that the data is indeed pre-processed."
   ]
  },
  {
   "cell_type": "code",
   "execution_count": 1,
   "metadata": {},
   "outputs": [],
   "source": [
    "import pandas as pd\n",
    "import matplotlib.pyplot as plt\n",
    "import numpy as np\n",
    "import seaborn as sns\n",
    "from scipy import stats as st\n",
    "from sklearn.metrics import mean_squared_error\n",
    "from sklearn.tree import DecisionTreeRegressor\n",
    "from sklearn.ensemble import RandomForestRegressor\n",
    "from sklearn.linear_model import LinearRegression\n",
    "from sklearn.linear_model import LogisticRegression\n",
    "from sklearn.model_selection import train_test_split\n",
    "from sklearn.ensemble import RandomForestClassifier\n",
    "from sklearn.metrics import accuracy_score\n",
    "from sklearn.tree import DecisionTreeClassifier\n",
    "from sklearn.preprocessing import StandardScaler\n",
    "from sklearn.metrics import f1_score\n",
    "from sklearn.metrics import roc_auc_score\n",
    "from sklearn import metrics"
   ]
  },
  {
   "cell_type": "code",
   "execution_count": 2,
   "metadata": {},
   "outputs": [
    {
     "name": "stdout",
     "output_type": "stream",
     "text": [
      "<class 'pandas.core.frame.DataFrame'>\n",
      "RangeIndex: 3214 entries, 0 to 3213\n",
      "Data columns (total 5 columns):\n",
      " #   Column    Non-Null Count  Dtype  \n",
      "---  ------    --------------  -----  \n",
      " 0   calls     3214 non-null   float64\n",
      " 1   minutes   3214 non-null   float64\n",
      " 2   messages  3214 non-null   float64\n",
      " 3   mb_used   3214 non-null   float64\n",
      " 4   is_ultra  3214 non-null   int64  \n",
      "dtypes: float64(4), int64(1)\n",
      "memory usage: 125.7 KB\n"
     ]
    },
    {
     "data": {
      "text/html": [
       "<div>\n",
       "<style scoped>\n",
       "    .dataframe tbody tr th:only-of-type {\n",
       "        vertical-align: middle;\n",
       "    }\n",
       "\n",
       "    .dataframe tbody tr th {\n",
       "        vertical-align: top;\n",
       "    }\n",
       "\n",
       "    .dataframe thead th {\n",
       "        text-align: right;\n",
       "    }\n",
       "</style>\n",
       "<table border=\"1\" class=\"dataframe\">\n",
       "  <thead>\n",
       "    <tr style=\"text-align: right;\">\n",
       "      <th></th>\n",
       "      <th>calls</th>\n",
       "      <th>minutes</th>\n",
       "      <th>messages</th>\n",
       "      <th>mb_used</th>\n",
       "      <th>is_ultra</th>\n",
       "    </tr>\n",
       "  </thead>\n",
       "  <tbody>\n",
       "    <tr>\n",
       "      <th>0</th>\n",
       "      <td>40.0</td>\n",
       "      <td>311.90</td>\n",
       "      <td>83.0</td>\n",
       "      <td>19915.42</td>\n",
       "      <td>0</td>\n",
       "    </tr>\n",
       "    <tr>\n",
       "      <th>1</th>\n",
       "      <td>85.0</td>\n",
       "      <td>516.75</td>\n",
       "      <td>56.0</td>\n",
       "      <td>22696.96</td>\n",
       "      <td>0</td>\n",
       "    </tr>\n",
       "    <tr>\n",
       "      <th>2</th>\n",
       "      <td>77.0</td>\n",
       "      <td>467.66</td>\n",
       "      <td>86.0</td>\n",
       "      <td>21060.45</td>\n",
       "      <td>0</td>\n",
       "    </tr>\n",
       "    <tr>\n",
       "      <th>3</th>\n",
       "      <td>106.0</td>\n",
       "      <td>745.53</td>\n",
       "      <td>81.0</td>\n",
       "      <td>8437.39</td>\n",
       "      <td>1</td>\n",
       "    </tr>\n",
       "    <tr>\n",
       "      <th>4</th>\n",
       "      <td>66.0</td>\n",
       "      <td>418.74</td>\n",
       "      <td>1.0</td>\n",
       "      <td>14502.75</td>\n",
       "      <td>0</td>\n",
       "    </tr>\n",
       "    <tr>\n",
       "      <th>5</th>\n",
       "      <td>58.0</td>\n",
       "      <td>344.56</td>\n",
       "      <td>21.0</td>\n",
       "      <td>15823.37</td>\n",
       "      <td>0</td>\n",
       "    </tr>\n",
       "    <tr>\n",
       "      <th>6</th>\n",
       "      <td>57.0</td>\n",
       "      <td>431.64</td>\n",
       "      <td>20.0</td>\n",
       "      <td>3738.90</td>\n",
       "      <td>1</td>\n",
       "    </tr>\n",
       "    <tr>\n",
       "      <th>7</th>\n",
       "      <td>15.0</td>\n",
       "      <td>132.40</td>\n",
       "      <td>6.0</td>\n",
       "      <td>21911.60</td>\n",
       "      <td>0</td>\n",
       "    </tr>\n",
       "    <tr>\n",
       "      <th>8</th>\n",
       "      <td>7.0</td>\n",
       "      <td>43.39</td>\n",
       "      <td>3.0</td>\n",
       "      <td>2538.67</td>\n",
       "      <td>1</td>\n",
       "    </tr>\n",
       "    <tr>\n",
       "      <th>9</th>\n",
       "      <td>90.0</td>\n",
       "      <td>665.41</td>\n",
       "      <td>38.0</td>\n",
       "      <td>17358.61</td>\n",
       "      <td>0</td>\n",
       "    </tr>\n",
       "  </tbody>\n",
       "</table>\n",
       "</div>"
      ],
      "text/plain": [
       "   calls  minutes  messages   mb_used  is_ultra\n",
       "0   40.0   311.90      83.0  19915.42         0\n",
       "1   85.0   516.75      56.0  22696.96         0\n",
       "2   77.0   467.66      86.0  21060.45         0\n",
       "3  106.0   745.53      81.0   8437.39         1\n",
       "4   66.0   418.74       1.0  14502.75         0\n",
       "5   58.0   344.56      21.0  15823.37         0\n",
       "6   57.0   431.64      20.0   3738.90         1\n",
       "7   15.0   132.40       6.0  21911.60         0\n",
       "8    7.0    43.39       3.0   2538.67         1\n",
       "9   90.0   665.41      38.0  17358.61         0"
      ]
     },
     "metadata": {},
     "output_type": "display_data"
    },
    {
     "data": {
      "text/html": [
       "<div>\n",
       "<style scoped>\n",
       "    .dataframe tbody tr th:only-of-type {\n",
       "        vertical-align: middle;\n",
       "    }\n",
       "\n",
       "    .dataframe tbody tr th {\n",
       "        vertical-align: top;\n",
       "    }\n",
       "\n",
       "    .dataframe thead th {\n",
       "        text-align: right;\n",
       "    }\n",
       "</style>\n",
       "<table border=\"1\" class=\"dataframe\">\n",
       "  <thead>\n",
       "    <tr style=\"text-align: right;\">\n",
       "      <th></th>\n",
       "      <th>count</th>\n",
       "      <th>mean</th>\n",
       "      <th>std</th>\n",
       "      <th>min</th>\n",
       "      <th>25%</th>\n",
       "      <th>50%</th>\n",
       "      <th>75%</th>\n",
       "      <th>max</th>\n",
       "    </tr>\n",
       "  </thead>\n",
       "  <tbody>\n",
       "    <tr>\n",
       "      <th>calls</th>\n",
       "      <td>3214.0</td>\n",
       "      <td>63.038892</td>\n",
       "      <td>33.236368</td>\n",
       "      <td>0.0</td>\n",
       "      <td>40.0000</td>\n",
       "      <td>62.000</td>\n",
       "      <td>82.0000</td>\n",
       "      <td>244.00</td>\n",
       "    </tr>\n",
       "    <tr>\n",
       "      <th>minutes</th>\n",
       "      <td>3214.0</td>\n",
       "      <td>438.208787</td>\n",
       "      <td>234.569872</td>\n",
       "      <td>0.0</td>\n",
       "      <td>274.5750</td>\n",
       "      <td>430.600</td>\n",
       "      <td>571.9275</td>\n",
       "      <td>1632.06</td>\n",
       "    </tr>\n",
       "    <tr>\n",
       "      <th>messages</th>\n",
       "      <td>3214.0</td>\n",
       "      <td>38.281269</td>\n",
       "      <td>36.148326</td>\n",
       "      <td>0.0</td>\n",
       "      <td>9.0000</td>\n",
       "      <td>30.000</td>\n",
       "      <td>57.0000</td>\n",
       "      <td>224.00</td>\n",
       "    </tr>\n",
       "    <tr>\n",
       "      <th>mb_used</th>\n",
       "      <td>3214.0</td>\n",
       "      <td>17207.673836</td>\n",
       "      <td>7570.968246</td>\n",
       "      <td>0.0</td>\n",
       "      <td>12491.9025</td>\n",
       "      <td>16943.235</td>\n",
       "      <td>21424.7000</td>\n",
       "      <td>49745.73</td>\n",
       "    </tr>\n",
       "    <tr>\n",
       "      <th>is_ultra</th>\n",
       "      <td>3214.0</td>\n",
       "      <td>0.306472</td>\n",
       "      <td>0.461100</td>\n",
       "      <td>0.0</td>\n",
       "      <td>0.0000</td>\n",
       "      <td>0.000</td>\n",
       "      <td>1.0000</td>\n",
       "      <td>1.00</td>\n",
       "    </tr>\n",
       "  </tbody>\n",
       "</table>\n",
       "</div>"
      ],
      "text/plain": [
       "           count          mean          std  min         25%        50%  \\\n",
       "calls     3214.0     63.038892    33.236368  0.0     40.0000     62.000   \n",
       "minutes   3214.0    438.208787   234.569872  0.0    274.5750    430.600   \n",
       "messages  3214.0     38.281269    36.148326  0.0      9.0000     30.000   \n",
       "mb_used   3214.0  17207.673836  7570.968246  0.0  12491.9025  16943.235   \n",
       "is_ultra  3214.0      0.306472     0.461100  0.0      0.0000      0.000   \n",
       "\n",
       "                 75%       max  \n",
       "calls        82.0000    244.00  \n",
       "minutes     571.9275   1632.06  \n",
       "messages     57.0000    224.00  \n",
       "mb_used   21424.7000  49745.73  \n",
       "is_ultra      1.0000      1.00  "
      ]
     },
     "metadata": {},
     "output_type": "display_data"
    }
   ],
   "source": [
    "try:\n",
    "    df = pd.read_csv('/datasets/users_behavior.csv')\n",
    "except:\n",
    "    df = pd.read_csv('C:/Users/Ivan/datasetsYP/users_behavior.csv')\n",
    "        \n",
    "df.info()\n",
    "display(df.head(10))\n",
    "display(df.describe().T)\n"
   ]
  },
  {
   "cell_type": "markdown",
   "metadata": {},
   "source": [
    "### Conclusions\n",
    "Indeed, the data is already pre-processed.\n",
    "Each object in the dataset is information about one user's behavior in a month. Known:  \n",
    "- calls - number of calls,  \n",
    "- minutes - total duration of calls in minutes,  \n",
    "- messages - number of sms-messages,  \n",
    "- mb_used - used Internet traffic in Mb,  \n",
    "- is_ultra - what tariff was used during the month (\"Ultra\" - 1, \"Smart\" - 0).  \n",
    "It turns out that the task is reduced to choosing between two categories (Ultra and Smart)."
   ]
  },
  {
   "cell_type": "markdown",
   "metadata": {},
   "source": [
    "## Partitioning data into samples"
   ]
  },
  {
   "cell_type": "markdown",
   "metadata": {},
   "source": [
    "Divide the raw data into training, validation and test samples.\n",
    "As suggested in the course, let's do it in the format 60% 20% 20%.\n",
    "Since we have a function to split the data set into two from the course, let's apply it twice."
   ]
  },
  {
   "cell_type": "code",
   "execution_count": 3,
   "metadata": {
    "scrolled": true
   },
   "outputs": [
    {
     "name": "stdout",
     "output_type": "stream",
     "text": [
      "<class 'pandas.core.frame.DataFrame'>\n",
      "Int64Index: 1928 entries, 2363 to 2238\n",
      "Data columns (total 4 columns):\n",
      " #   Column    Non-Null Count  Dtype  \n",
      "---  ------    --------------  -----  \n",
      " 0   calls     1928 non-null   float64\n",
      " 1   minutes   1928 non-null   float64\n",
      " 2   messages  1928 non-null   float64\n",
      " 3   mb_used   1928 non-null   float64\n",
      "dtypes: float64(4)\n",
      "memory usage: 75.3 KB\n",
      "<class 'pandas.core.frame.DataFrame'>\n",
      "Int64Index: 643 entries, 2541 to 3085\n",
      "Data columns (total 4 columns):\n",
      " #   Column    Non-Null Count  Dtype  \n",
      "---  ------    --------------  -----  \n",
      " 0   calls     643 non-null    float64\n",
      " 1   minutes   643 non-null    float64\n",
      " 2   messages  643 non-null    float64\n",
      " 3   mb_used   643 non-null    float64\n",
      "dtypes: float64(4)\n",
      "memory usage: 25.1 KB\n",
      "<class 'pandas.core.frame.DataFrame'>\n",
      "Int64Index: 643 entries, 1212 to 428\n",
      "Data columns (total 4 columns):\n",
      " #   Column    Non-Null Count  Dtype  \n",
      "---  ------    --------------  -----  \n",
      " 0   calls     643 non-null    float64\n",
      " 1   minutes   643 non-null    float64\n",
      " 2   messages  643 non-null    float64\n",
      " 3   mb_used   643 non-null    float64\n",
      "dtypes: float64(4)\n",
      "memory usage: 25.1 KB\n"
     ]
    }
   ],
   "source": [
    "df_features = df.drop(['is_ultra'], axis=1)\n",
    "df_targets = df['is_ultra']\n",
    "\n",
    "df_train_and_valid_features, df_test_features = train_test_split(df_features, test_size=0.20, random_state=44)\n",
    "df_train_features, df_valid_features =  train_test_split(df_train_and_valid_features, test_size=0.25, random_state=44)\n",
    "\n",
    "df_train_and_valid_targets, df_test_targets = train_test_split(df_targets, test_size=0.20, random_state=44)\n",
    "df_train_targets, df_valid_targets =  train_test_split(df_train_and_valid_targets, test_size=0.25, random_state=44)\n",
    "\n",
    "\n",
    "df_train_features.info()\n",
    "df_valid_features.info()\n",
    "df_test_features.info()"
   ]
  },
  {
   "cell_type": "markdown",
   "metadata": {},
   "source": [
    "Samples are broken down and prepared for modeling."
   ]
  },
  {
   "cell_type": "markdown",
   "metadata": {},
   "source": [
    "## Model Exploration\n",
    "Explore the quality of different models by changing the hyperparameters.\n",
    "### Logarithmic and Linear Regression\n",
    "Let's start with the simplest models - logistic and linear regression."
   ]
  },
  {
   "cell_type": "code",
   "execution_count": 4,
   "metadata": {
    "scrolled": true
   },
   "outputs": [
    {
     "name": "stdout",
     "output_type": "stream",
     "text": [
      "RSME for logarithmic regression: 0.46209802462685945\n",
      "RSME for linear regression: 0.46209802462685945\n",
      "RSME for avarage value: 0.4706662489774635\n"
     ]
    }
   ],
   "source": [
    "model_log_reg = LogisticRegression(random_state=44, solver='lbfgs', max_iter=1000)\n",
    "model_log_reg = LinearRegression() \n",
    "model_log_reg.fit(df_train_features, df_train_targets)\n",
    "predictions_valid_log_reg = model_log_reg.predict(df_valid_features)\n",
    "\n",
    "rsme_log_reg = mean_squared_error(df_valid_targets, predictions_valid_log_reg)**0.5\n",
    "\n",
    "print('RSME for logarithmic regression:', rsme_log_reg)\n",
    "\n",
    "model_lin_reg = LinearRegression()\n",
    "model_lin_reg.fit(df_train_features, df_train_targets)\n",
    "predictions_valid_lin_reg = model_lin_reg.predict(df_valid_features)\n",
    "\n",
    "rsme_lin_reg = mean_squared_error(df_valid_targets, predictions_valid_lin_reg)**0.5\n",
    "\n",
    "print('RSME for linear regression:', rsme_lin_reg)\n",
    " \n",
    "random_predictions = pd.Series(df_valid_targets.mean(), index = df_valid_targets.index)\n",
    "print('RSME for avarage value:', mean_squared_error(df_valid_targets, random_predictions)**0.5)"
   ]
  },
  {
   "cell_type": "code",
   "execution_count": 5,
   "metadata": {},
   "outputs": [
    {
     "data": {
      "text/plain": [
       "array([[-0.68663683, -0.89528882, -0.02998469, -2.29385336],\n",
       "       [-0.92741633, -0.83235624, -0.35294823, -0.28048442],\n",
       "       [-0.2652727 , -0.08160863,  1.23495587, -0.26749032],\n",
       "       ...,\n",
       "       [ 0.15609143,  0.11611843, -0.89122081, -1.52385409],\n",
       "       [-0.59634451, -0.3630749 , -0.21838009,  0.4673337 ],\n",
       "       [ 0.06579912, -0.02517011, -0.29912097,  0.01375924]])"
      ]
     },
     "metadata": {},
     "output_type": "display_data"
    },
    {
     "data": {
      "text/plain": [
       "array([[-1.66336182, -1.65623769, -0.94500873, -1.62249033],\n",
       "       [ 0.15196698,  0.12283999,  0.11206395,  0.26114976],\n",
       "       [-0.0984232 , -0.25519457, -0.6220143 ,  0.68456601],\n",
       "       ...,\n",
       "       [ 1.59171051,  1.30880291,  2.6960194 ,  1.34476812],\n",
       "       [ 0.8092412 ,  0.94205561, -0.18156735,  0.47307269],\n",
       "       [-1.5694655 , -1.53883234,  0.52314777,  1.95831133]])"
      ]
     },
     "metadata": {},
     "output_type": "display_data"
    },
    {
     "name": "stdout",
     "output_type": "stream",
     "text": [
      "RSME for logarithmic regression: 0.46209802462685945\n",
      "RSME for linear regression: 0.46209802462685945\n",
      "RSME for avarage value: 0.4706662489774635\n"
     ]
    }
   ],
   "source": [
    "object = StandardScaler()\n",
    "\n",
    "df_train_features_normilized = object.fit_transform(df_train_features)\n",
    "df_valid_features_normilized = object.fit_transform(df_valid_features)\n",
    "\n",
    "display(df_train_features_normilized)\n",
    "display(df_valid_features_normilized)\n",
    "\n",
    "model_log_reg_second = LogisticRegression(random_state=44, solver='lbfgs', max_iter=1000)\n",
    "model_log_reg_second = LinearRegression() \n",
    "model_log_reg_second.fit(df_train_features_normilized, df_train_targets)\n",
    "predictions_valid_log_reg_second = model_log_reg_second.predict(df_valid_features_normilized)\n",
    "\n",
    "rsme_log_reg_second = mean_squared_error(df_valid_targets, predictions_valid_log_reg_second)**0.5\n",
    "\n",
    "print('RSME for logarithmic regression:', rsme_log_reg)\n",
    "\n",
    "model_lin_reg_second = LinearRegression()\n",
    "model_lin_reg_second.fit(df_train_features_normilized, df_train_targets)\n",
    "predictions_valid_lin_reg_second = model_lin_reg_second.predict(df_valid_features_normilized)\n",
    "\n",
    "rsme_lin_reg_second = mean_squared_error(df_valid_targets, predictions_valid_lin_reg_second)**0.5\n",
    "\n",
    "print('RSME for linear regression:', rsme_lin_reg)\n",
    " \n",
    "random_predictions = pd.Series(df_valid_targets.mean(), index = df_valid_targets.index)\n",
    "print('RSME for avarage value:', mean_squared_error(df_valid_targets, random_predictions)**0.5)"
   ]
  },
  {
   "cell_type": "markdown",
   "metadata": {},
   "source": [
    "Logistic and linear regression proved to be practically useless for this task.  \n",
    "The results are also independent of the prior scaling of the data."
   ]
  },
  {
   "cell_type": "markdown",
   "metadata": {},
   "source": [
    "### Decision Tree\n",
    "Let's look at the results for the decision tree."
   ]
  },
  {
   "cell_type": "code",
   "execution_count": 6,
   "metadata": {
    "scrolled": true
   },
   "outputs": [
    {
     "name": "stdout",
     "output_type": "stream",
     "text": [
      "Max depth = 1 : 0.7309486780715396\n",
      "Max depth = 2 : 0.7589424572317263\n",
      "Max depth = 3 : 0.7636080870917574\n",
      "Max depth = 4 : 0.7667185069984448\n",
      "Max depth = 5 : 0.7636080870917574\n"
     ]
    }
   ],
   "source": [
    "best_model_tree = None\n",
    "best_result_tree = 0\n",
    "for depth in range(1, 6):\n",
    "    model_tree = DecisionTreeClassifier(max_depth = depth, random_state = 44)\n",
    "    model_tree.fit(df_train_features, df_train_targets)\n",
    "    predictions_valid_tree = model_tree.predict(df_valid_features)\n",
    "    result = accuracy_score(df_valid_targets, predictions_valid_tree)\n",
    "    \n",
    "    if result > best_result_tree:\n",
    "        best_model_tree = model_tree\n",
    "        best_result_tree = result\n",
    "\n",
    "    print(\"Max depth =\", depth, \":\", end=' ')\n",
    "    print(result) "
   ]
  },
  {
   "cell_type": "markdown",
   "metadata": {},
   "source": [
    "The decision tree gives quite good results. The best results are obtained at a depth of 4, which coincides with the number of available parameters, probably further retraining takes place."
   ]
  },
  {
   "cell_type": "markdown",
   "metadata": {},
   "source": [
    "### Random Forest\n",
    "Consider how the hyperparameters of the random forest affect the predictive power.\n"
   ]
  },
  {
   "cell_type": "code",
   "execution_count": 7,
   "metadata": {},
   "outputs": [
    {
     "name": "stdout",
     "output_type": "stream",
     "text": [
      "Number of trees: 10\n",
      "Max depth = 1 : 0.7371695178849145\n",
      "Max depth = 2 : 0.76049766718507\n",
      "Max depth = 3 : 0.7667185069984448\n",
      "Max depth = 4 : 0.7729393468118196\n",
      "Max depth = 5 : 0.7729393468118196\n",
      "\n",
      "\n",
      "Number of trees: 20\n",
      "Max depth = 1 : 0.7325038880248833\n",
      "Max depth = 2 : 0.76049766718507\n",
      "Max depth = 3 : 0.7682737169517885\n",
      "Max depth = 4 : 0.7698289269051322\n",
      "Max depth = 5 : 0.7713841368584758\n",
      "\n",
      "\n",
      "Number of trees: 30\n",
      "Max depth = 1 : 0.7325038880248833\n",
      "Max depth = 2 : 0.7667185069984448\n",
      "Max depth = 3 : 0.7682737169517885\n",
      "Max depth = 4 : 0.7682737169517885\n",
      "Max depth = 5 : 0.7698289269051322\n",
      "\n",
      "\n",
      "Number of trees: 40\n",
      "Max depth = 1 : 0.7402799377916018\n",
      "Max depth = 2 : 0.7682737169517885\n",
      "Max depth = 3 : 0.7682737169517885\n",
      "Max depth = 4 : 0.7713841368584758\n",
      "Max depth = 5 : 0.7698289269051322\n",
      "\n",
      "\n",
      "Number of trees: 50\n",
      "Max depth = 1 : 0.7371695178849145\n",
      "Max depth = 2 : 0.7651632970451011\n",
      "Max depth = 3 : 0.7682737169517885\n",
      "Max depth = 4 : 0.7698289269051322\n",
      "Max depth = 5 : 0.7698289269051322\n",
      "\n",
      "\n",
      "Best results: 0.7729393468118196\n"
     ]
    }
   ],
   "source": [
    "best_model_forest = None\n",
    "best_result_forest = 0\n",
    "best_est_forest = 0\n",
    "best_depth_forest = 0\n",
    "for est in range(10, 51, 10):\n",
    "    print('Number of trees:', est)\n",
    "    for depth in range (1, 6):\n",
    "        model = RandomForestClassifier(random_state = 44,n_estimators=est, max_depth=depth)\n",
    "        model.fit(df_train_features, df_train_targets)\n",
    "        predictions_valid_forest = model.predict(df_valid_features) \n",
    "        result = accuracy_score(df_valid_targets, predictions_valid_forest)\n",
    "        \n",
    "        if result > best_result_forest:\n",
    "            best_model_forest = model\n",
    "            best_result_forest = result\n",
    "            best_est_forest = est\n",
    "            best_depth_forest = depth\n",
    "            \n",
    "        print(\"Max depth =\", depth, \":\", end=' ')\n",
    "        print(result)\n",
    "        \n",
    "    print('\\n')\n",
    "\n",
    "print('Best results:', best_result_forest)"
   ]
  },
  {
   "cell_type": "markdown",
   "metadata": {},
   "source": [
    "Interestingly, the number of trees has almost no effect on the prediction accuracy for the considered parameters. The depth corresponds to the number of parameters is also optimal."
   ]
  },
  {
   "cell_type": "code",
   "execution_count": 8,
   "metadata": {
    "scrolled": false
   },
   "outputs": [
    {
     "name": "stdout",
     "output_type": "stream",
     "text": [
      "f1_score: 0.7470484840886235\n",
      "AUC-ROC: 0.6797849110164864\n"
     ]
    },
    {
     "data": {
      "image/png": "[encoded data removed]",
      "text/plain": [
       "<Figure size 640x480 with 1 Axes>"
      ]
     },
     "metadata": {},
     "output_type": "display_data"
    }
   ],
   "source": [
    "f1_score_metrics = f1_score(df_valid_targets, best_model_forest.predict(df_valid_features), average='weighted')\n",
    "print('f1_score:', f1_score_metrics)\n",
    "\n",
    "roc_auc_metrics = roc_auc_score(df_valid_targets, best_model_forest.predict(df_valid_features))\n",
    "print('AUC-ROC:', roc_auc_metrics)\n",
    "\n",
    "\n",
    "\n",
    "fpr, tpr, _ = metrics. roc_curve (df_valid_targets, best_model_forest.predict(df_valid_features))\n",
    "\n",
    "plt.plot(fpr,tpr)\n",
    "plt.plot([0, 1], [0, 1],  color='r', alpha=0.3)\n",
    "plt.ylabel('True Positive Rate')\n",
    "plt.xlabel('False Positive Rate')\n",
    "plt.show() "
   ]
  },
  {
   "cell_type": "markdown",
   "metadata": {},
   "source": [
    "### Conclusions\n",
    "Linear and logistic regression proved useless for this problem.  \n",
    "The decision tree showed quite good results at a depth matching the number of parameters, while the forest of trees gave a slightly more accurate prediction.  \n",
    "A forest of 10 trees with a maximum depth of 4 was chosen as the best model."
   ]
  },
  {
   "cell_type": "markdown",
   "metadata": {},
   "source": [
    "## Let's check the model on a test sample\n",
    "The best model turned out to be a tree forest model with 10 trees and a maximum depth of 4."
   ]
  },
  {
   "cell_type": "code",
   "execution_count": 9,
   "metadata": {},
   "outputs": [
    {
     "name": "stdout",
     "output_type": "stream",
     "text": [
      "0.8009331259720062\n"
     ]
    }
   ],
   "source": [
    "predictions_test_best = best_model_forest.predict(df_test_features) \n",
    "result_best_on_test = accuracy_score(df_test_targets, predictions_test_best)\n",
    "print(result_best_on_test)"
   ]
  },
  {
   "cell_type": "markdown",
   "metadata": {},
   "source": [
    "On the test sample, the model performed well, the accuracy of 0.8 is better than the value required by the condition (0.75)."
   ]
  },
  {
   "cell_type": "markdown",
   "metadata": {},
   "source": [
    "## Check the models for adequacy"
   ]
  },
  {
   "cell_type": "markdown",
   "metadata": {},
   "source": [
    "Since the accuracy of the model is quite high (0.8 on the test sample - it definitely performs better than random, which has an accuracy of 0 on a large sample).  \n",
    "To check for adequacy, I think it is interesting to see what results do not match. Maybe, on the basis of this information it will be possible to understand if there is any trend in model errors."
   ]
  },
  {
   "cell_type": "code",
   "execution_count": 10,
   "metadata": {},
   "outputs": [
    {
     "data": {
      "text/plain": [
       "index_x      3170.00\n",
       "calls          72.00\n",
       "minutes       447.40\n",
       "messages      105.00\n",
       "mb_used     27873.88\n",
       "index_y      3170.00\n",
       "is_ultra        0.00\n",
       "Name: 7, dtype: float64"
      ]
     },
     "metadata": {},
     "output_type": "display_data"
    },
    {
     "data": {
      "text/plain": [
       "index_x       232.00\n",
       "calls          42.00\n",
       "minutes       260.94\n",
       "messages       79.00\n",
       "mb_used     17519.93\n",
       "index_y       232.00\n",
       "is_ultra        1.00\n",
       "Name: 18, dtype: float64"
      ]
     },
     "metadata": {},
     "output_type": "display_data"
    },
    {
     "data": {
      "text/plain": [
       "index_x     2628.00\n",
       "calls         89.00\n",
       "minutes      635.86\n",
       "messages       0.00\n",
       "mb_used     8417.03\n",
       "index_y     2628.00\n",
       "is_ultra       1.00\n",
       "Name: 30, dtype: float64"
      ]
     },
     "metadata": {},
     "output_type": "display_data"
    },
    {
     "data": {
      "text/plain": [
       "index_x     2767.00\n",
       "calls         27.00\n",
       "minutes      148.89\n",
       "messages      45.00\n",
       "mb_used     6976.25\n",
       "index_y     2767.00\n",
       "is_ultra       1.00\n",
       "Name: 31, dtype: float64"
      ]
     },
     "metadata": {},
     "output_type": "display_data"
    },
    {
     "data": {
      "text/plain": [
       "index_x      1417.00\n",
       "calls          71.00\n",
       "minutes       501.59\n",
       "messages       40.00\n",
       "mb_used     17828.40\n",
       "index_y      1417.00\n",
       "is_ultra        1.00\n",
       "Name: 33, dtype: float64"
      ]
     },
     "metadata": {},
     "output_type": "display_data"
    },
    {
     "data": {
      "text/plain": [
       "index_x     698.00\n",
       "calls        16.00\n",
       "minutes     105.46\n",
       "messages      3.00\n",
       "mb_used       0.01\n",
       "index_y     698.00\n",
       "is_ultra      1.00\n",
       "Name: 34, dtype: float64"
      ]
     },
     "metadata": {},
     "output_type": "display_data"
    },
    {
     "data": {
      "text/plain": [
       "index_x     2411.00\n",
       "calls         73.00\n",
       "minutes      453.90\n",
       "messages      57.00\n",
       "mb_used     4719.69\n",
       "index_y     2411.00\n",
       "is_ultra       1.00\n",
       "Name: 43, dtype: float64"
      ]
     },
     "metadata": {},
     "output_type": "display_data"
    },
    {
     "data": {
      "text/plain": [
       "index_x       493.00\n",
       "calls          31.00\n",
       "minutes       210.44\n",
       "messages       19.00\n",
       "mb_used     27437.43\n",
       "index_y       493.00\n",
       "is_ultra        0.00\n",
       "Name: 49, dtype: float64"
      ]
     },
     "metadata": {},
     "output_type": "display_data"
    },
    {
     "data": {
      "text/plain": [
       "index_x      3167.00\n",
       "calls          87.00\n",
       "minutes       580.77\n",
       "messages       28.00\n",
       "mb_used     21995.82\n",
       "index_y      3167.00\n",
       "is_ultra        1.00\n",
       "Name: 57, dtype: float64"
      ]
     },
     "metadata": {},
     "output_type": "display_data"
    },
    {
     "data": {
      "text/plain": [
       "index_x      1948.00\n",
       "calls          99.00\n",
       "minutes       742.19\n",
       "messages       35.00\n",
       "mb_used     17626.73\n",
       "index_y      1948.00\n",
       "is_ultra        1.00\n",
       "Name: 70, dtype: float64"
      ]
     },
     "metadata": {},
     "output_type": "display_data"
    },
    {
     "data": {
      "text/plain": [
       "index_x     2109.00\n",
       "calls         67.00\n",
       "minutes      431.79\n",
       "messages       5.00\n",
       "mb_used     6287.89\n",
       "index_y     2109.00\n",
       "is_ultra       1.00\n",
       "Name: 77, dtype: float64"
      ]
     },
     "metadata": {},
     "output_type": "display_data"
    },
    {
     "data": {
      "text/plain": [
       "index_x       457.00\n",
       "calls          99.00\n",
       "minutes       642.81\n",
       "messages       45.00\n",
       "mb_used     10187.06\n",
       "index_y       457.00\n",
       "is_ultra        1.00\n",
       "Name: 78, dtype: float64"
      ]
     },
     "metadata": {},
     "output_type": "display_data"
    },
    {
     "data": {
      "text/plain": [
       "index_x      2862.00\n",
       "calls          74.00\n",
       "minutes       589.16\n",
       "messages       49.00\n",
       "mb_used     17279.27\n",
       "index_y      2862.00\n",
       "is_ultra        1.00\n",
       "Name: 84, dtype: float64"
      ]
     },
     "metadata": {},
     "output_type": "display_data"
    },
    {
     "data": {
      "text/plain": [
       "index_x      2531.00\n",
       "calls         124.00\n",
       "minutes       786.97\n",
       "messages       73.00\n",
       "mb_used     27387.22\n",
       "index_y      2531.00\n",
       "is_ultra        0.00\n",
       "Name: 86, dtype: float64"
      ]
     },
     "metadata": {},
     "output_type": "display_data"
    },
    {
     "data": {
      "text/plain": [
       "index_x      1431.00\n",
       "calls          43.00\n",
       "minutes       314.37\n",
       "messages       43.00\n",
       "mb_used     10015.52\n",
       "index_y      1431.00\n",
       "is_ultra        1.00\n",
       "Name: 87, dtype: float64"
      ]
     },
     "metadata": {},
     "output_type": "display_data"
    },
    {
     "data": {
      "text/plain": [
       "index_x      2129.00\n",
       "calls          59.00\n",
       "minutes       398.07\n",
       "messages       24.00\n",
       "mb_used     22574.39\n",
       "index_y      2129.00\n",
       "is_ultra        1.00\n",
       "Name: 89, dtype: float64"
      ]
     },
     "metadata": {},
     "output_type": "display_data"
    },
    {
     "data": {
      "text/plain": [
       "index_x      2445.0\n",
       "calls         114.0\n",
       "minutes       859.4\n",
       "messages       44.0\n",
       "mb_used     14445.3\n",
       "index_y      2445.0\n",
       "is_ultra        0.0\n",
       "Name: 95, dtype: float64"
      ]
     },
     "metadata": {},
     "output_type": "display_data"
    },
    {
     "data": {
      "text/plain": [
       "index_x      2999.00\n",
       "calls          74.00\n",
       "minutes       508.53\n",
       "messages       27.00\n",
       "mb_used     13752.20\n",
       "index_y      2999.00\n",
       "is_ultra        1.00\n",
       "Name: 96, dtype: float64"
      ]
     },
     "metadata": {},
     "output_type": "display_data"
    },
    {
     "data": {
      "text/plain": [
       "index_x      1755.00\n",
       "calls           0.00\n",
       "minutes         0.00\n",
       "messages       48.00\n",
       "mb_used     12442.93\n",
       "index_y      1755.00\n",
       "is_ultra        0.00\n",
       "Name: 98, dtype: float64"
      ]
     },
     "metadata": {},
     "output_type": "display_data"
    },
    {
     "data": {
      "text/plain": [
       "index_x        43.00\n",
       "calls          50.00\n",
       "minutes       323.99\n",
       "messages       10.00\n",
       "mb_used     20922.05\n",
       "index_y        43.00\n",
       "is_ultra        1.00\n",
       "Name: 99, dtype: float64"
      ]
     },
     "metadata": {},
     "output_type": "display_data"
    },
    {
     "data": {
      "text/plain": [
       "index_x     2914.00\n",
       "calls         57.00\n",
       "minutes      428.23\n",
       "messages       5.00\n",
       "mb_used     8857.38\n",
       "index_y     2914.00\n",
       "is_ultra       1.00\n",
       "Name: 103, dtype: float64"
      ]
     },
     "metadata": {},
     "output_type": "display_data"
    },
    {
     "data": {
      "text/plain": [
       "index_x      1363.00\n",
       "calls          49.00\n",
       "minutes       354.93\n",
       "messages       79.00\n",
       "mb_used     12249.89\n",
       "index_y      1363.00\n",
       "is_ultra        1.00\n",
       "Name: 104, dtype: float64"
      ]
     },
     "metadata": {},
     "output_type": "display_data"
    },
    {
     "data": {
      "text/plain": [
       "index_x      2388.00\n",
       "calls           3.00\n",
       "minutes        35.47\n",
       "messages       62.00\n",
       "mb_used     11774.26\n",
       "index_y      2388.00\n",
       "is_ultra        1.00\n",
       "Name: 107, dtype: float64"
      ]
     },
     "metadata": {},
     "output_type": "display_data"
    },
    {
     "data": {
      "text/plain": [
       "index_x       797.00\n",
       "calls          82.00\n",
       "minutes       552.28\n",
       "messages       50.00\n",
       "mb_used     24278.94\n",
       "index_y       797.00\n",
       "is_ultra        1.00\n",
       "Name: 108, dtype: float64"
      ]
     },
     "metadata": {},
     "output_type": "display_data"
    },
    {
     "data": {
      "text/plain": [
       "index_x      1311.00\n",
       "calls          79.00\n",
       "minutes       517.95\n",
       "messages        1.00\n",
       "mb_used     26517.44\n",
       "index_y      1311.00\n",
       "is_ultra        1.00\n",
       "Name: 111, dtype: float64"
      ]
     },
     "metadata": {},
     "output_type": "display_data"
    },
    {
     "data": {
      "text/plain": [
       "index_x      2554.00\n",
       "calls          29.00\n",
       "minutes       232.85\n",
       "messages       85.00\n",
       "mb_used     26395.12\n",
       "index_y      2554.00\n",
       "is_ultra        0.00\n",
       "Name: 112, dtype: float64"
      ]
     },
     "metadata": {},
     "output_type": "display_data"
    },
    {
     "data": {
      "text/plain": [
       "index_x      1991.00\n",
       "calls          77.00\n",
       "minutes       573.41\n",
       "messages       45.00\n",
       "mb_used     28489.81\n",
       "index_y      1991.00\n",
       "is_ultra        0.00\n",
       "Name: 116, dtype: float64"
      ]
     },
     "metadata": {},
     "output_type": "display_data"
    },
    {
     "data": {
      "text/plain": [
       "index_x       280.00\n",
       "calls          68.00\n",
       "minutes       413.20\n",
       "messages       29.00\n",
       "mb_used     13526.61\n",
       "index_y       280.00\n",
       "is_ultra        1.00\n",
       "Name: 117, dtype: float64"
      ]
     },
     "metadata": {},
     "output_type": "display_data"
    },
    {
     "data": {
      "text/plain": [
       "index_x     1371.00\n",
       "calls         85.00\n",
       "minutes      561.13\n",
       "messages      84.00\n",
       "mb_used     9406.05\n",
       "index_y     1371.00\n",
       "is_ultra       1.00\n",
       "Name: 123, dtype: float64"
      ]
     },
     "metadata": {},
     "output_type": "display_data"
    },
    {
     "data": {
      "text/plain": [
       "index_x       846.00\n",
       "calls         114.00\n",
       "minutes       734.12\n",
       "messages      134.00\n",
       "mb_used     25969.80\n",
       "index_y       846.00\n",
       "is_ultra        0.00\n",
       "Name: 129, dtype: float64"
      ]
     },
     "metadata": {},
     "output_type": "display_data"
    },
    {
     "data": {
      "text/plain": [
       "index_x     2030.00\n",
       "calls         52.00\n",
       "minutes      396.63\n",
       "messages       4.00\n",
       "mb_used     7166.28\n",
       "index_y     2030.00\n",
       "is_ultra       1.00\n",
       "Name: 133, dtype: float64"
      ]
     },
     "metadata": {},
     "output_type": "display_data"
    },
    {
     "data": {
      "text/plain": [
       "index_x      1436.00\n",
       "calls         121.00\n",
       "minutes       843.72\n",
       "messages        0.00\n",
       "mb_used     14976.00\n",
       "index_y      1436.00\n",
       "is_ultra        0.00\n",
       "Name: 141, dtype: float64"
      ]
     },
     "metadata": {},
     "output_type": "display_data"
    },
    {
     "data": {
      "text/plain": [
       "index_x     3091.00\n",
       "calls         17.00\n",
       "minutes       91.03\n",
       "messages      13.00\n",
       "mb_used     2614.07\n",
       "index_y     3091.00\n",
       "is_ultra       1.00\n",
       "Name: 144, dtype: float64"
      ]
     },
     "metadata": {},
     "output_type": "display_data"
    },
    {
     "data": {
      "text/plain": [
       "index_x      1817.00\n",
       "calls          36.00\n",
       "minutes       297.35\n",
       "messages       20.00\n",
       "mb_used     24526.88\n",
       "index_y      1817.00\n",
       "is_ultra        1.00\n",
       "Name: 149, dtype: float64"
      ]
     },
     "metadata": {},
     "output_type": "display_data"
    },
    {
     "data": {
      "text/plain": [
       "index_x       221.00\n",
       "calls          98.00\n",
       "minutes       729.83\n",
       "messages      105.00\n",
       "mb_used     18675.65\n",
       "index_y       221.00\n",
       "is_ultra        1.00\n",
       "Name: 153, dtype: float64"
      ]
     },
     "metadata": {},
     "output_type": "display_data"
    },
    {
     "data": {
      "text/plain": [
       "index_x       341.00\n",
       "calls         108.00\n",
       "minutes       728.68\n",
       "messages        4.00\n",
       "mb_used     14340.84\n",
       "index_y       341.00\n",
       "is_ultra        1.00\n",
       "Name: 155, dtype: float64"
      ]
     },
     "metadata": {},
     "output_type": "display_data"
    },
    {
     "data": {
      "text/plain": [
       "index_x      1767.00\n",
       "calls          50.00\n",
       "minutes       375.76\n",
       "messages       78.00\n",
       "mb_used     12666.67\n",
       "index_y      1767.00\n",
       "is_ultra        1.00\n",
       "Name: 157, dtype: float64"
      ]
     },
     "metadata": {},
     "output_type": "display_data"
    },
    {
     "data": {
      "text/plain": [
       "index_x      2752.00\n",
       "calls          63.00\n",
       "minutes       478.92\n",
       "messages       54.00\n",
       "mb_used     23681.93\n",
       "index_y      2752.00\n",
       "is_ultra        1.00\n",
       "Name: 158, dtype: float64"
      ]
     },
     "metadata": {},
     "output_type": "display_data"
    },
    {
     "data": {
      "text/plain": [
       "index_x       580.00\n",
       "calls          43.00\n",
       "minutes       321.63\n",
       "messages       42.00\n",
       "mb_used     25599.87\n",
       "index_y       580.00\n",
       "is_ultra        1.00\n",
       "Name: 164, dtype: float64"
      ]
     },
     "metadata": {},
     "output_type": "display_data"
    },
    {
     "data": {
      "text/plain": [
       "index_x     2028.00\n",
       "calls         80.00\n",
       "minutes      489.48\n",
       "messages       0.00\n",
       "mb_used     9126.45\n",
       "index_y     2028.00\n",
       "is_ultra       1.00\n",
       "Name: 174, dtype: float64"
      ]
     },
     "metadata": {},
     "output_type": "display_data"
    },
    {
     "data": {
      "text/plain": [
       "index_x     1065.00\n",
       "calls          2.00\n",
       "minutes        2.00\n",
       "messages       0.00\n",
       "mb_used      959.51\n",
       "index_y     1065.00\n",
       "is_ultra       1.00\n",
       "Name: 178, dtype: float64"
      ]
     },
     "metadata": {},
     "output_type": "display_data"
    },
    {
     "data": {
      "text/plain": [
       "index_x       588.00\n",
       "calls          81.00\n",
       "minutes       565.64\n",
       "messages       40.00\n",
       "mb_used     15323.58\n",
       "index_y       588.00\n",
       "is_ultra        1.00\n",
       "Name: 182, dtype: float64"
      ]
     },
     "metadata": {},
     "output_type": "display_data"
    },
    {
     "data": {
      "text/plain": [
       "index_x      2146.00\n",
       "calls         106.00\n",
       "minutes       806.68\n",
       "messages       72.00\n",
       "mb_used     12970.66\n",
       "index_y      2146.00\n",
       "is_ultra        0.00\n",
       "Name: 189, dtype: float64"
      ]
     },
     "metadata": {},
     "output_type": "display_data"
    },
    {
     "data": {
      "text/plain": [
       "index_x      2249.00\n",
       "calls          46.00\n",
       "minutes       314.16\n",
       "messages       48.00\n",
       "mb_used     16684.31\n",
       "index_y      2249.00\n",
       "is_ultra        1.00\n",
       "Name: 196, dtype: float64"
      ]
     },
     "metadata": {},
     "output_type": "display_data"
    },
    {
     "data": {
      "text/plain": [
       "index_x      2927.00\n",
       "calls          95.00\n",
       "minutes       721.24\n",
       "messages       36.00\n",
       "mb_used     23219.86\n",
       "index_y      2927.00\n",
       "is_ultra        1.00\n",
       "Name: 197, dtype: float64"
      ]
     },
     "metadata": {},
     "output_type": "display_data"
    },
    {
     "data": {
      "text/plain": [
       "index_x      459.00\n",
       "calls          4.00\n",
       "minutes       27.05\n",
       "messages      39.00\n",
       "mb_used     7382.23\n",
       "index_y      459.00\n",
       "is_ultra       1.00\n",
       "Name: 199, dtype: float64"
      ]
     },
     "metadata": {},
     "output_type": "display_data"
    },
    {
     "data": {
      "text/plain": [
       "index_x      3097.00\n",
       "calls          46.00\n",
       "minutes       372.18\n",
       "messages        0.00\n",
       "mb_used     27304.11\n",
       "index_y      3097.00\n",
       "is_ultra        0.00\n",
       "Name: 201, dtype: float64"
      ]
     },
     "metadata": {},
     "output_type": "display_data"
    },
    {
     "data": {
      "text/plain": [
       "index_x       802.00\n",
       "calls          90.00\n",
       "minutes       521.53\n",
       "messages       54.00\n",
       "mb_used     15950.10\n",
       "index_y       802.00\n",
       "is_ultra        1.00\n",
       "Name: 202, dtype: float64"
      ]
     },
     "metadata": {},
     "output_type": "display_data"
    },
    {
     "data": {
      "text/plain": [
       "index_x      1736.00\n",
       "calls          42.00\n",
       "minutes       281.39\n",
       "messages        0.00\n",
       "mb_used     21421.28\n",
       "index_y      1736.00\n",
       "is_ultra        1.00\n",
       "Name: 203, dtype: float64"
      ]
     },
     "metadata": {},
     "output_type": "display_data"
    },
    {
     "data": {
      "text/plain": [
       "index_x      1204.00\n",
       "calls          78.00\n",
       "minutes       563.86\n",
       "messages        0.00\n",
       "mb_used     17061.33\n",
       "index_y      1204.00\n",
       "is_ultra        1.00\n",
       "Name: 207, dtype: float64"
      ]
     },
     "metadata": {},
     "output_type": "display_data"
    },
    {
     "data": {
      "text/plain": [
       "index_x      1671.00\n",
       "calls         115.00\n",
       "minutes       758.98\n",
       "messages       49.00\n",
       "mb_used     14474.71\n",
       "index_y      1671.00\n",
       "is_ultra        1.00\n",
       "Name: 208, dtype: float64"
      ]
     },
     "metadata": {},
     "output_type": "display_data"
    },
    {
     "data": {
      "text/plain": [
       "index_x     2369.00\n",
       "calls         62.00\n",
       "minutes      436.40\n",
       "messages      89.00\n",
       "mb_used     8495.06\n",
       "index_y     2369.00\n",
       "is_ultra       1.00\n",
       "Name: 211, dtype: float64"
      ]
     },
     "metadata": {},
     "output_type": "display_data"
    },
    {
     "data": {
      "text/plain": [
       "index_x      1001.00\n",
       "calls          88.00\n",
       "minutes       740.68\n",
       "messages        0.00\n",
       "mb_used     25803.71\n",
       "index_y      1001.00\n",
       "is_ultra        1.00\n",
       "Name: 218, dtype: float64"
      ]
     },
     "metadata": {},
     "output_type": "display_data"
    },
    {
     "data": {
      "text/plain": [
       "index_x       773.00\n",
       "calls          94.00\n",
       "minutes       707.37\n",
       "messages       19.00\n",
       "mb_used     14491.72\n",
       "index_y       773.00\n",
       "is_ultra        1.00\n",
       "Name: 224, dtype: float64"
      ]
     },
     "metadata": {},
     "output_type": "display_data"
    },
    {
     "data": {
      "text/plain": [
       "index_x      1350.00\n",
       "calls          82.00\n",
       "minutes       564.01\n",
       "messages        0.00\n",
       "mb_used     13846.03\n",
       "index_y      1350.00\n",
       "is_ultra        1.00\n",
       "Name: 229, dtype: float64"
      ]
     },
     "metadata": {},
     "output_type": "display_data"
    },
    {
     "data": {
      "text/plain": [
       "index_x     2020.00\n",
       "calls         81.00\n",
       "minutes      506.46\n",
       "messages      21.00\n",
       "mb_used     7510.09\n",
       "index_y     2020.00\n",
       "is_ultra       1.00\n",
       "Name: 240, dtype: float64"
      ]
     },
     "metadata": {},
     "output_type": "display_data"
    },
    {
     "data": {
      "text/plain": [
       "index_x       223.00\n",
       "calls         110.00\n",
       "minutes       881.06\n",
       "messages       72.00\n",
       "mb_used     11441.18\n",
       "index_y       223.00\n",
       "is_ultra        0.00\n",
       "Name: 241, dtype: float64"
      ]
     },
     "metadata": {},
     "output_type": "display_data"
    },
    {
     "data": {
      "text/plain": [
       "index_x      2636.00\n",
       "calls          75.00\n",
       "minutes       530.55\n",
       "messages      143.00\n",
       "mb_used     21653.39\n",
       "index_y      2636.00\n",
       "is_ultra        0.00\n",
       "Name: 246, dtype: float64"
      ]
     },
     "metadata": {},
     "output_type": "display_data"
    },
    {
     "data": {
      "text/plain": [
       "index_x     1368.00\n",
       "calls         21.00\n",
       "minutes      135.88\n",
       "messages      18.00\n",
       "mb_used     9561.56\n",
       "index_y     1368.00\n",
       "is_ultra       1.00\n",
       "Name: 259, dtype: float64"
      ]
     },
     "metadata": {},
     "output_type": "display_data"
    },
    {
     "data": {
      "text/plain": [
       "index_x      2218.00\n",
       "calls          66.00\n",
       "minutes       516.49\n",
       "messages       98.00\n",
       "mb_used     26830.49\n",
       "index_y      2218.00\n",
       "is_ultra        1.00\n",
       "Name: 262, dtype: float64"
      ]
     },
     "metadata": {},
     "output_type": "display_data"
    },
    {
     "data": {
      "text/plain": [
       "index_x      1600.00\n",
       "calls          85.00\n",
       "minutes       601.18\n",
       "messages       55.00\n",
       "mb_used     16089.05\n",
       "index_y      1600.00\n",
       "is_ultra        1.00\n",
       "Name: 268, dtype: float64"
      ]
     },
     "metadata": {},
     "output_type": "display_data"
    },
    {
     "data": {
      "text/plain": [
       "index_x       532.00\n",
       "calls          75.00\n",
       "minutes       496.06\n",
       "messages       14.00\n",
       "mb_used     13850.84\n",
       "index_y       532.00\n",
       "is_ultra        1.00\n",
       "Name: 269, dtype: float64"
      ]
     },
     "metadata": {},
     "output_type": "display_data"
    },
    {
     "data": {
      "text/plain": [
       "index_x      2332.00\n",
       "calls          65.00\n",
       "minutes       401.06\n",
       "messages       49.00\n",
       "mb_used     19660.40\n",
       "index_y      2332.00\n",
       "is_ultra        1.00\n",
       "Name: 270, dtype: float64"
      ]
     },
     "metadata": {},
     "output_type": "display_data"
    },
    {
     "data": {
      "text/plain": [
       "index_x     1150.00\n",
       "calls         53.00\n",
       "minutes      340.14\n",
       "messages      65.00\n",
       "mb_used     9465.94\n",
       "index_y     1150.00\n",
       "is_ultra       1.00\n",
       "Name: 285, dtype: float64"
      ]
     },
     "metadata": {},
     "output_type": "display_data"
    },
    {
     "data": {
      "text/plain": [
       "index_x       202.00\n",
       "calls          92.00\n",
       "minutes       632.45\n",
       "messages       22.00\n",
       "mb_used     20221.48\n",
       "index_y       202.00\n",
       "is_ultra        1.00\n",
       "Name: 288, dtype: float64"
      ]
     },
     "metadata": {},
     "output_type": "display_data"
    },
    {
     "data": {
      "text/plain": [
       "index_x      1514.00\n",
       "calls          30.00\n",
       "minutes       204.33\n",
       "messages       10.00\n",
       "mb_used     30084.73\n",
       "index_y      1514.00\n",
       "is_ultra        0.00\n",
       "Name: 295, dtype: float64"
      ]
     },
     "metadata": {},
     "output_type": "display_data"
    },
    {
     "data": {
      "text/plain": [
       "index_x      1032.00\n",
       "calls          65.00\n",
       "minutes       447.07\n",
       "messages       55.00\n",
       "mb_used     24515.37\n",
       "index_y      1032.00\n",
       "is_ultra        1.00\n",
       "Name: 296, dtype: float64"
      ]
     },
     "metadata": {},
     "output_type": "display_data"
    },
    {
     "data": {
      "text/plain": [
       "index_x      517.00\n",
       "calls         36.00\n",
       "minutes      229.49\n",
       "messages       0.00\n",
       "mb_used     5579.28\n",
       "index_y      517.00\n",
       "is_ultra       1.00\n",
       "Name: 305, dtype: float64"
      ]
     },
     "metadata": {},
     "output_type": "display_data"
    },
    {
     "data": {
      "text/plain": [
       "index_x      2603.00\n",
       "calls          55.00\n",
       "minutes       402.17\n",
       "messages        0.00\n",
       "mb_used     22021.11\n",
       "index_y      2603.00\n",
       "is_ultra        1.00\n",
       "Name: 310, dtype: float64"
      ]
     },
     "metadata": {},
     "output_type": "display_data"
    },
    {
     "data": {
      "text/plain": [
       "index_x      1857.00\n",
       "calls          62.00\n",
       "minutes       352.66\n",
       "messages       82.00\n",
       "mb_used     28205.37\n",
       "index_y      1857.00\n",
       "is_ultra        0.00\n",
       "Name: 315, dtype: float64"
      ]
     },
     "metadata": {},
     "output_type": "display_data"
    },
    {
     "data": {
      "text/plain": [
       "index_x      2943.00\n",
       "calls           0.00\n",
       "minutes         0.00\n",
       "messages       17.00\n",
       "mb_used     12905.41\n",
       "index_y      2943.00\n",
       "is_ultra        1.00\n",
       "Name: 317, dtype: float64"
      ]
     },
     "metadata": {},
     "output_type": "display_data"
    },
    {
     "data": {
      "text/plain": [
       "index_x      1220.00\n",
       "calls          22.00\n",
       "minutes       142.56\n",
       "messages       61.00\n",
       "mb_used     18891.63\n",
       "index_y      1220.00\n",
       "is_ultra        1.00\n",
       "Name: 323, dtype: float64"
      ]
     },
     "metadata": {},
     "output_type": "display_data"
    },
    {
     "data": {
      "text/plain": [
       "index_x       509.00\n",
       "calls          69.00\n",
       "minutes       460.06\n",
       "messages        0.00\n",
       "mb_used     27802.78\n",
       "index_y       509.00\n",
       "is_ultra        0.00\n",
       "Name: 332, dtype: float64"
      ]
     },
     "metadata": {},
     "output_type": "display_data"
    },
    {
     "data": {
      "text/plain": [
       "index_x      955.00\n",
       "calls         85.00\n",
       "minutes      613.98\n",
       "messages      34.00\n",
       "mb_used     5622.08\n",
       "index_y      955.00\n",
       "is_ultra       1.00\n",
       "Name: 335, dtype: float64"
      ]
     },
     "metadata": {},
     "output_type": "display_data"
    },
    {
     "data": {
      "text/plain": [
       "index_x      2232.00\n",
       "calls          93.00\n",
       "minutes       730.44\n",
       "messages        0.00\n",
       "mb_used     20294.90\n",
       "index_y      2232.00\n",
       "is_ultra        1.00\n",
       "Name: 344, dtype: float64"
      ]
     },
     "metadata": {},
     "output_type": "display_data"
    },
    {
     "data": {
      "text/plain": [
       "index_x      1138.00\n",
       "calls         109.00\n",
       "minutes       833.51\n",
       "messages       69.00\n",
       "mb_used     18408.84\n",
       "index_y      1138.00\n",
       "is_ultra        0.00\n",
       "Name: 351, dtype: float64"
      ]
     },
     "metadata": {},
     "output_type": "display_data"
    },
    {
     "data": {
      "text/plain": [
       "index_x      2476.00\n",
       "calls          46.00\n",
       "minutes       300.17\n",
       "messages      100.00\n",
       "mb_used     13432.78\n",
       "index_y      2476.00\n",
       "is_ultra        1.00\n",
       "Name: 354, dtype: float64"
      ]
     },
     "metadata": {},
     "output_type": "display_data"
    },
    {
     "data": {
      "text/plain": [
       "index_x     1673.00\n",
       "calls        100.00\n",
       "minutes      769.45\n",
       "messages       0.00\n",
       "mb_used     7718.19\n",
       "index_y     1673.00\n",
       "is_ultra       1.00\n",
       "Name: 358, dtype: float64"
      ]
     },
     "metadata": {},
     "output_type": "display_data"
    },
    {
     "data": {
      "text/plain": [
       "index_x      2280.00\n",
       "calls         108.00\n",
       "minutes       747.39\n",
       "messages       96.00\n",
       "mb_used     36266.22\n",
       "index_y      2280.00\n",
       "is_ultra        0.00\n",
       "Name: 359, dtype: float64"
      ]
     },
     "metadata": {},
     "output_type": "display_data"
    },
    {
     "data": {
      "text/plain": [
       "index_x      1663.00\n",
       "calls          42.00\n",
       "minutes       275.75\n",
       "messages       46.00\n",
       "mb_used     11000.61\n",
       "index_y      1663.00\n",
       "is_ultra        1.00\n",
       "Name: 364, dtype: float64"
      ]
     },
     "metadata": {},
     "output_type": "display_data"
    },
    {
     "data": {
      "text/plain": [
       "index_x      1902.00\n",
       "calls          33.00\n",
       "minutes       227.67\n",
       "messages        0.00\n",
       "mb_used     23528.08\n",
       "index_y      1902.00\n",
       "is_ultra        1.00\n",
       "Name: 366, dtype: float64"
      ]
     },
     "metadata": {},
     "output_type": "display_data"
    },
    {
     "data": {
      "text/plain": [
       "index_x      2255.00\n",
       "calls         125.00\n",
       "minutes       835.29\n",
       "messages       26.00\n",
       "mb_used     23116.04\n",
       "index_y      2255.00\n",
       "is_ultra        0.00\n",
       "Name: 375, dtype: float64"
      ]
     },
     "metadata": {},
     "output_type": "display_data"
    },
    {
     "data": {
      "text/plain": [
       "index_x       926.00\n",
       "calls          92.00\n",
       "minutes       757.19\n",
       "messages        0.00\n",
       "mb_used     14682.17\n",
       "index_y       926.00\n",
       "is_ultra        1.00\n",
       "Name: 378, dtype: float64"
      ]
     },
     "metadata": {},
     "output_type": "display_data"
    },
    {
     "data": {
      "text/plain": [
       "index_x      2968.00\n",
       "calls          80.00\n",
       "minutes       581.24\n",
       "messages       60.00\n",
       "mb_used     20897.77\n",
       "index_y      2968.00\n",
       "is_ultra        1.00\n",
       "Name: 379, dtype: float64"
      ]
     },
     "metadata": {},
     "output_type": "display_data"
    },
    {
     "data": {
      "text/plain": [
       "index_x      1927.00\n",
       "calls          82.00\n",
       "minutes       643.82\n",
       "messages       28.00\n",
       "mb_used     26403.93\n",
       "index_y      1927.00\n",
       "is_ultra        1.00\n",
       "Name: 396, dtype: float64"
      ]
     },
     "metadata": {},
     "output_type": "display_data"
    },
    {
     "data": {
      "text/plain": [
       "index_x       243.00\n",
       "calls         121.00\n",
       "minutes       765.61\n",
       "messages       53.00\n",
       "mb_used     21445.05\n",
       "index_y       243.00\n",
       "is_ultra        1.00\n",
       "Name: 401, dtype: float64"
      ]
     },
     "metadata": {},
     "output_type": "display_data"
    },
    {
     "data": {
      "text/plain": [
       "index_x       603.00\n",
       "calls          70.00\n",
       "minutes       509.42\n",
       "messages       90.00\n",
       "mb_used     15614.34\n",
       "index_y       603.00\n",
       "is_ultra        1.00\n",
       "Name: 404, dtype: float64"
      ]
     },
     "metadata": {},
     "output_type": "display_data"
    },
    {
     "data": {
      "text/plain": [
       "index_x       262.00\n",
       "calls          52.00\n",
       "minutes       365.85\n",
       "messages       91.00\n",
       "mb_used     16879.69\n",
       "index_y       262.00\n",
       "is_ultra        1.00\n",
       "Name: 405, dtype: float64"
      ]
     },
     "metadata": {},
     "output_type": "display_data"
    },
    {
     "data": {
      "text/plain": [
       "index_x      417.00\n",
       "calls         74.00\n",
       "minutes      539.51\n",
       "messages      27.00\n",
       "mb_used     7732.23\n",
       "index_y      417.00\n",
       "is_ultra       1.00\n",
       "Name: 407, dtype: float64"
      ]
     },
     "metadata": {},
     "output_type": "display_data"
    },
    {
     "data": {
      "text/plain": [
       "index_x      3127.00\n",
       "calls          89.00\n",
       "minutes       548.43\n",
       "messages        6.00\n",
       "mb_used     25307.07\n",
       "index_y      3127.00\n",
       "is_ultra        1.00\n",
       "Name: 408, dtype: float64"
      ]
     },
     "metadata": {},
     "output_type": "display_data"
    },
    {
     "data": {
      "text/plain": [
       "index_x     2997.00\n",
       "calls         46.00\n",
       "minutes      320.98\n",
       "messages      70.00\n",
       "mb_used     9817.63\n",
       "index_y     2997.00\n",
       "is_ultra       1.00\n",
       "Name: 413, dtype: float64"
      ]
     },
     "metadata": {},
     "output_type": "display_data"
    },
    {
     "data": {
      "text/plain": [
       "index_x      1477.00\n",
       "calls          98.00\n",
       "minutes       703.16\n",
       "messages        4.00\n",
       "mb_used     25391.67\n",
       "index_y      1477.00\n",
       "is_ultra        1.00\n",
       "Name: 419, dtype: float64"
      ]
     },
     "metadata": {},
     "output_type": "display_data"
    },
    {
     "data": {
      "text/plain": [
       "index_x       422.00\n",
       "calls         120.00\n",
       "minutes       694.90\n",
       "messages        0.00\n",
       "mb_used     21547.26\n",
       "index_y       422.00\n",
       "is_ultra        1.00\n",
       "Name: 422, dtype: float64"
      ]
     },
     "metadata": {},
     "output_type": "display_data"
    },
    {
     "data": {
      "text/plain": [
       "index_x     1728.00\n",
       "calls         43.00\n",
       "minutes      266.10\n",
       "messages      22.00\n",
       "mb_used     6676.01\n",
       "index_y     1728.00\n",
       "is_ultra       1.00\n",
       "Name: 425, dtype: float64"
      ]
     },
     "metadata": {},
     "output_type": "display_data"
    },
    {
     "data": {
      "text/plain": [
       "index_x       994.00\n",
       "calls          68.00\n",
       "minutes       379.06\n",
       "messages       18.00\n",
       "mb_used     11166.22\n",
       "index_y       994.00\n",
       "is_ultra        1.00\n",
       "Name: 432, dtype: float64"
      ]
     },
     "metadata": {},
     "output_type": "display_data"
    },
    {
     "data": {
      "text/plain": [
       "index_x      1627.00\n",
       "calls          42.00\n",
       "minutes       289.91\n",
       "messages       57.00\n",
       "mb_used     26951.22\n",
       "index_y      1627.00\n",
       "is_ultra        1.00\n",
       "Name: 445, dtype: float64"
      ]
     },
     "metadata": {},
     "output_type": "display_data"
    },
    {
     "data": {
      "text/plain": [
       "index_x      1531.00\n",
       "calls         100.00\n",
       "minutes       730.05\n",
       "messages       20.00\n",
       "mb_used     26582.03\n",
       "index_y      1531.00\n",
       "is_ultra        1.00\n",
       "Name: 463, dtype: float64"
      ]
     },
     "metadata": {},
     "output_type": "display_data"
    },
    {
     "data": {
      "text/plain": [
       "index_x       630.00\n",
       "calls          44.00\n",
       "minutes       271.16\n",
       "messages        0.00\n",
       "mb_used     12749.16\n",
       "index_y       630.00\n",
       "is_ultra        1.00\n",
       "Name: 468, dtype: float64"
      ]
     },
     "metadata": {},
     "output_type": "display_data"
    },
    {
     "data": {
      "text/plain": [
       "index_x       343.00\n",
       "calls          78.00\n",
       "minutes       477.07\n",
       "messages        0.00\n",
       "mb_used     17862.30\n",
       "index_y       343.00\n",
       "is_ultra        1.00\n",
       "Name: 482, dtype: float64"
      ]
     },
     "metadata": {},
     "output_type": "display_data"
    },
    {
     "data": {
      "text/plain": [
       "index_x     2611.00\n",
       "calls         45.00\n",
       "minutes      297.11\n",
       "messages       3.00\n",
       "mb_used     8964.46\n",
       "index_y     2611.00\n",
       "is_ultra       1.00\n",
       "Name: 485, dtype: float64"
      ]
     },
     "metadata": {},
     "output_type": "display_data"
    },
    {
     "data": {
      "text/plain": [
       "index_x       914.00\n",
       "calls         137.00\n",
       "minutes       973.64\n",
       "messages       13.00\n",
       "mb_used     16015.97\n",
       "index_y       914.00\n",
       "is_ultra        0.00\n",
       "Name: 505, dtype: float64"
      ]
     },
     "metadata": {},
     "output_type": "display_data"
    },
    {
     "data": {
      "text/plain": [
       "index_x      2365.00\n",
       "calls           2.00\n",
       "minutes        12.43\n",
       "messages       48.00\n",
       "mb_used     29724.22\n",
       "index_y      2365.00\n",
       "is_ultra        0.00\n",
       "Name: 514, dtype: float64"
      ]
     },
     "metadata": {},
     "output_type": "display_data"
    },
    {
     "data": {
      "text/plain": [
       "index_x     2303.00\n",
       "calls         43.00\n",
       "minutes      345.70\n",
       "messages      58.00\n",
       "mb_used     1981.69\n",
       "index_y     2303.00\n",
       "is_ultra       1.00\n",
       "Name: 516, dtype: float64"
      ]
     },
     "metadata": {},
     "output_type": "display_data"
    },
    {
     "data": {
      "text/plain": [
       "index_x     1523.00\n",
       "calls         75.00\n",
       "minutes      533.35\n",
       "messages      74.00\n",
       "mb_used     7289.94\n",
       "index_y     1523.00\n",
       "is_ultra       1.00\n",
       "Name: 522, dtype: float64"
      ]
     },
     "metadata": {},
     "output_type": "display_data"
    },
    {
     "data": {
      "text/plain": [
       "index_x     1192.00\n",
       "calls         15.00\n",
       "minutes      129.64\n",
       "messages       0.00\n",
       "mb_used     5208.12\n",
       "index_y     1192.00\n",
       "is_ultra       1.00\n",
       "Name: 524, dtype: float64"
      ]
     },
     "metadata": {},
     "output_type": "display_data"
    },
    {
     "data": {
      "text/plain": [
       "index_x      3164.00\n",
       "calls         113.00\n",
       "minutes       771.95\n",
       "messages       14.00\n",
       "mb_used     15571.17\n",
       "index_y      3164.00\n",
       "is_ultra        1.00\n",
       "Name: 530, dtype: float64"
      ]
     },
     "metadata": {},
     "output_type": "display_data"
    },
    {
     "data": {
      "text/plain": [
       "index_x      2087.00\n",
       "calls          84.00\n",
       "minutes       537.57\n",
       "messages       49.00\n",
       "mb_used     28381.19\n",
       "index_y      2087.00\n",
       "is_ultra        0.00\n",
       "Name: 531, dtype: float64"
      ]
     },
     "metadata": {},
     "output_type": "display_data"
    },
    {
     "data": {
      "text/plain": [
       "index_x      2572.00\n",
       "calls          32.00\n",
       "minutes       188.41\n",
       "messages       78.00\n",
       "mb_used     25113.59\n",
       "index_y      2572.00\n",
       "is_ultra        1.00\n",
       "Name: 536, dtype: float64"
      ]
     },
     "metadata": {},
     "output_type": "display_data"
    },
    {
     "data": {
      "text/plain": [
       "index_x      1997.00\n",
       "calls         109.00\n",
       "minutes       845.72\n",
       "messages        0.00\n",
       "mb_used     13893.98\n",
       "index_y      1997.00\n",
       "is_ultra        0.00\n",
       "Name: 549, dtype: float64"
      ]
     },
     "metadata": {},
     "output_type": "display_data"
    },
    {
     "data": {
      "text/plain": [
       "index_x      2694.00\n",
       "calls          77.00\n",
       "minutes       549.07\n",
       "messages        0.00\n",
       "mb_used     23388.63\n",
       "index_y      2694.00\n",
       "is_ultra        1.00\n",
       "Name: 550, dtype: float64"
      ]
     },
     "metadata": {},
     "output_type": "display_data"
    },
    {
     "data": {
      "text/plain": [
       "index_x      2291.00\n",
       "calls           0.00\n",
       "minutes         0.00\n",
       "messages       28.00\n",
       "mb_used     11864.26\n",
       "index_y      2291.00\n",
       "is_ultra        1.00\n",
       "Name: 554, dtype: float64"
      ]
     },
     "metadata": {},
     "output_type": "display_data"
    },
    {
     "data": {
      "text/plain": [
       "index_x     2209.00\n",
       "calls         15.00\n",
       "minutes       84.66\n",
       "messages      13.00\n",
       "mb_used     4353.73\n",
       "index_y     2209.00\n",
       "is_ultra       1.00\n",
       "Name: 555, dtype: float64"
      ]
     },
     "metadata": {},
     "output_type": "display_data"
    },
    {
     "data": {
      "text/plain": [
       "index_x     3066.00\n",
       "calls         44.00\n",
       "minutes      250.07\n",
       "messages      37.00\n",
       "mb_used        0.00\n",
       "index_y     3066.00\n",
       "is_ultra       1.00\n",
       "Name: 558, dtype: float64"
      ]
     },
     "metadata": {},
     "output_type": "display_data"
    },
    {
     "data": {
      "text/plain": [
       "index_x      1469.00\n",
       "calls         115.00\n",
       "minutes       747.58\n",
       "messages       98.00\n",
       "mb_used     12912.97\n",
       "index_y      1469.00\n",
       "is_ultra        1.00\n",
       "Name: 559, dtype: float64"
      ]
     },
     "metadata": {},
     "output_type": "display_data"
    },
    {
     "data": {
      "text/plain": [
       "index_x       299.00\n",
       "calls          43.00\n",
       "minutes       235.81\n",
       "messages       43.00\n",
       "mb_used     23859.26\n",
       "index_y       299.00\n",
       "is_ultra        1.00\n",
       "Name: 567, dtype: float64"
      ]
     },
     "metadata": {},
     "output_type": "display_data"
    },
    {
     "data": {
      "text/plain": [
       "index_x       451.00\n",
       "calls          90.00\n",
       "minutes       646.31\n",
       "messages       51.00\n",
       "mb_used     22061.76\n",
       "index_y       451.00\n",
       "is_ultra        1.00\n",
       "Name: 572, dtype: float64"
      ]
     },
     "metadata": {},
     "output_type": "display_data"
    },
    {
     "data": {
      "text/plain": [
       "index_x      1730.00\n",
       "calls          57.00\n",
       "minutes       334.24\n",
       "messages       94.00\n",
       "mb_used     19656.30\n",
       "index_y      1730.00\n",
       "is_ultra        1.00\n",
       "Name: 578, dtype: float64"
      ]
     },
     "metadata": {},
     "output_type": "display_data"
    },
    {
     "data": {
      "text/plain": [
       "index_x       486.00\n",
       "calls         107.00\n",
       "minutes       653.70\n",
       "messages       94.00\n",
       "mb_used     15584.23\n",
       "index_y       486.00\n",
       "is_ultra        1.00\n",
       "Name: 584, dtype: float64"
      ]
     },
     "metadata": {},
     "output_type": "display_data"
    },
    {
     "data": {
      "text/plain": [
       "index_x     2050.00\n",
       "calls         98.00\n",
       "minutes      749.54\n",
       "messages       0.00\n",
       "mb_used     8633.32\n",
       "index_y     2050.00\n",
       "is_ultra       1.00\n",
       "Name: 593, dtype: float64"
      ]
     },
     "metadata": {},
     "output_type": "display_data"
    },
    {
     "data": {
      "text/plain": [
       "index_x       640.00\n",
       "calls          47.00\n",
       "minutes       340.18\n",
       "messages       86.00\n",
       "mb_used     13022.89\n",
       "index_y       640.00\n",
       "is_ultra        1.00\n",
       "Name: 598, dtype: float64"
      ]
     },
     "metadata": {},
     "output_type": "display_data"
    },
    {
     "data": {
      "text/plain": [
       "index_x      2348.00\n",
       "calls         141.00\n",
       "minutes      1102.88\n",
       "messages       50.00\n",
       "mb_used     16951.74\n",
       "index_y      2348.00\n",
       "is_ultra        0.00\n",
       "Name: 602, dtype: float64"
      ]
     },
     "metadata": {},
     "output_type": "display_data"
    },
    {
     "data": {
      "text/plain": [
       "index_x       769.00\n",
       "calls           0.00\n",
       "minutes         0.00\n",
       "messages       32.00\n",
       "mb_used     17206.44\n",
       "index_y       769.00\n",
       "is_ultra        0.00\n",
       "Name: 608, dtype: float64"
      ]
     },
     "metadata": {},
     "output_type": "display_data"
    },
    {
     "data": {
      "text/plain": [
       "index_x      2383.00\n",
       "calls          44.00\n",
       "minutes       370.76\n",
       "messages        0.00\n",
       "mb_used     24751.52\n",
       "index_y      2383.00\n",
       "is_ultra        1.00\n",
       "Name: 610, dtype: float64"
      ]
     },
     "metadata": {},
     "output_type": "display_data"
    },
    {
     "data": {
      "text/plain": [
       "index_x      2272.00\n",
       "calls          93.00\n",
       "minutes       658.89\n",
       "messages       38.00\n",
       "mb_used     17655.47\n",
       "index_y      2272.00\n",
       "is_ultra        1.00\n",
       "Name: 611, dtype: float64"
      ]
     },
     "metadata": {},
     "output_type": "display_data"
    },
    {
     "data": {
      "text/plain": [
       "index_x      2041.00\n",
       "calls          73.00\n",
       "minutes       442.40\n",
       "messages        0.00\n",
       "mb_used     21436.39\n",
       "index_y      2041.00\n",
       "is_ultra        1.00\n",
       "Name: 626, dtype: float64"
      ]
     },
     "metadata": {},
     "output_type": "display_data"
    },
    {
     "data": {
      "text/plain": [
       "index_x       155.00\n",
       "calls         100.00\n",
       "minutes       657.35\n",
       "messages        0.00\n",
       "mb_used     23039.76\n",
       "index_y       155.00\n",
       "is_ultra        1.00\n",
       "Name: 627, dtype: float64"
      ]
     },
     "metadata": {},
     "output_type": "display_data"
    },
    {
     "data": {
      "text/plain": [
       "index_x      1739.00\n",
       "calls          40.00\n",
       "minutes       307.83\n",
       "messages        0.00\n",
       "mb_used     17130.74\n",
       "index_y      1739.00\n",
       "is_ultra        1.00\n",
       "Name: 636, dtype: float64"
      ]
     },
     "metadata": {},
     "output_type": "display_data"
    },
    {
     "data": {
      "text/plain": [
       "index_x      1669.00\n",
       "calls           0.00\n",
       "minutes         0.00\n",
       "messages       19.00\n",
       "mb_used     17289.88\n",
       "index_y      1669.00\n",
       "is_ultra        1.00\n",
       "Name: 638, dtype: float64"
      ]
     },
     "metadata": {},
     "output_type": "display_data"
    }
   ],
   "source": [
    "df_test_merged = df_test_features.reset_index().merge(df_test_targets.reset_index(),\n",
    "                                                      left_index=True, right_index=True, how='left')\n",
    "for i in range(len(df_test_targets)):\n",
    "    if predictions_test_best[i] != df_test_merged['is_ultra'][i]:\n",
    "        display(df_test_merged.iloc[i])\n",
    "       \n"
   ]
  },
  {
   "cell_type": "markdown",
   "metadata": {},
   "source": [
    "The model is wrong in both ways, it is important.\n",
    "No particular trend was observed either.\n",
    "Probably, the model errors are related to the fact that in real life people periodically switch to suboptimal tariffs, or change the style of using mobile communication, but not the tariff."
   ]
  },
  {
   "cell_type": "markdown",
   "metadata": {},
   "source": [
    "## Conclusions\n",
    "The original dataset was validated against the description (finished pre-processed data).  \n",
    "It was divided into three samples in the ratio 60% 20% 20%: training, validation and test.  \n",
    "Four types of models were validated, it turned out that:  \n",
    "Linear and logistic regression are not suitable for this problem.  \n",
    "Decision tree gives a good predictive power, and the optimal depth is the number of parameters known for training (4).\n",
    "The forest of trees (with the number of trees 10, and optimal depth from one tree) allowed to improve the results slightly.\n",
    "The optimal tree forest model performed well on the test dataset, exceeding the required value for prediction accuracy.\n",
    "A semi-empirical study of the model's errors showed that it erred both one way and the other, with no clear trend in errors."
   ]
  }
 ],
 "metadata": {
  "ExecuteTimeLog": [
   {
    "duration": 1835,
    "start_time": "2023-06-25T20:20:30.048Z"
   },
   {
    "duration": 5,
    "start_time": "2023-06-25T20:20:35.968Z"
   },
   {
    "duration": 235,
    "start_time": "2023-06-25T20:20:35.988Z"
   },
   {
    "duration": 39,
    "start_time": "2023-06-25T20:20:36.226Z"
   },
   {
    "duration": 16,
    "start_time": "2023-06-25T20:20:36.268Z"
   },
   {
    "duration": 41,
    "start_time": "2023-06-25T20:20:36.286Z"
   },
   {
    "duration": 1871,
    "start_time": "2023-06-25T20:20:36.329Z"
   },
   {
    "duration": 11,
    "start_time": "2023-06-25T20:20:38.202Z"
   },
   {
    "duration": 576,
    "start_time": "2023-06-25T20:20:38.216Z"
   },
   {
    "duration": 101,
    "start_time": "2023-06-25T20:33:30.164Z"
   },
   {
    "duration": 21,
    "start_time": "2023-06-25T20:47:04.644Z"
   },
   {
    "duration": 14,
    "start_time": "2023-06-25T20:47:09.163Z"
   },
   {
    "duration": 3,
    "start_time": "2023-06-25T20:47:25.537Z"
   },
   {
    "duration": 1717,
    "start_time": "2023-06-26T17:21:16.155Z"
   },
   {
    "duration": 110,
    "start_time": "2023-06-26T17:21:17.874Z"
   },
   {
    "duration": 28,
    "start_time": "2023-06-26T17:21:17.985Z"
   },
   {
    "duration": 15,
    "start_time": "2023-06-26T17:21:18.015Z"
   },
   {
    "duration": 43,
    "start_time": "2023-06-26T17:21:18.031Z"
   },
   {
    "duration": 47,
    "start_time": "2023-06-26T17:21:18.076Z"
   },
   {
    "duration": 1657,
    "start_time": "2023-06-26T17:21:18.124Z"
   },
   {
    "duration": 8,
    "start_time": "2023-06-26T17:21:19.783Z"
   },
   {
    "duration": 481,
    "start_time": "2023-06-26T17:21:19.793Z"
   },
   {
    "duration": 22,
    "start_time": "2023-06-26T17:21:51.622Z"
   },
   {
    "duration": 1509,
    "start_time": "2023-06-26T17:22:47.899Z"
   },
   {
    "duration": 71,
    "start_time": "2023-06-26T17:22:49.410Z"
   },
   {
    "duration": 25,
    "start_time": "2023-06-26T17:22:49.482Z"
   },
   {
    "duration": 14,
    "start_time": "2023-06-26T17:22:49.509Z"
   },
   {
    "duration": 40,
    "start_time": "2023-06-26T17:22:49.525Z"
   },
   {
    "duration": 32,
    "start_time": "2023-06-26T17:22:49.566Z"
   },
   {
    "duration": 1627,
    "start_time": "2023-06-26T17:22:49.600Z"
   },
   {
    "duration": 9,
    "start_time": "2023-06-26T17:22:51.229Z"
   },
   {
    "duration": 446,
    "start_time": "2023-06-26T17:22:51.256Z"
   },
   {
    "duration": 1597,
    "start_time": "2023-06-26T17:30:38.378Z"
   },
   {
    "duration": 76,
    "start_time": "2023-06-26T17:30:39.977Z"
   },
   {
    "duration": 27,
    "start_time": "2023-06-26T17:30:40.054Z"
   },
   {
    "duration": 18,
    "start_time": "2023-06-26T17:30:40.083Z"
   },
   {
    "duration": 37,
    "start_time": "2023-06-26T17:30:40.102Z"
   },
   {
    "duration": 46,
    "start_time": "2023-06-26T17:30:40.141Z"
   },
   {
    "duration": 1681,
    "start_time": "2023-06-26T17:30:40.189Z"
   },
   {
    "duration": 15,
    "start_time": "2023-06-26T17:30:41.872Z"
   },
   {
    "duration": 14,
    "start_time": "2023-06-26T17:30:41.889Z"
   },
   {
    "duration": 478,
    "start_time": "2023-06-26T17:30:41.905Z"
   },
   {
    "duration": 127,
    "start_time": "2023-06-26T17:33:05.112Z"
   },
   {
    "duration": 1497,
    "start_time": "2023-06-26T17:33:11.384Z"
   },
   {
    "duration": 76,
    "start_time": "2023-06-26T17:33:12.883Z"
   },
   {
    "duration": 29,
    "start_time": "2023-06-26T17:33:12.961Z"
   },
   {
    "duration": 15,
    "start_time": "2023-06-26T17:33:12.992Z"
   },
   {
    "duration": 50,
    "start_time": "2023-06-26T17:33:13.009Z"
   },
   {
    "duration": 34,
    "start_time": "2023-06-26T17:33:13.061Z"
   },
   {
    "duration": 1662,
    "start_time": "2023-06-26T17:33:13.097Z"
   },
   {
    "duration": 144,
    "start_time": "2023-06-26T17:33:14.760Z"
   },
   {
    "duration": 8,
    "start_time": "2023-06-26T17:33:14.906Z"
   },
   {
    "duration": 482,
    "start_time": "2023-06-26T17:33:14.916Z"
   },
   {
    "duration": 134,
    "start_time": "2023-06-26T17:37:00.463Z"
   },
   {
    "duration": 124,
    "start_time": "2023-06-26T17:37:11.896Z"
   },
   {
    "duration": 1514,
    "start_time": "2023-06-26T17:38:34.195Z"
   },
   {
    "duration": 77,
    "start_time": "2023-06-26T17:38:35.711Z"
   },
   {
    "duration": 29,
    "start_time": "2023-06-26T17:38:35.791Z"
   },
   {
    "duration": 39,
    "start_time": "2023-06-26T17:38:35.823Z"
   },
   {
    "duration": 21,
    "start_time": "2023-06-26T17:38:35.864Z"
   },
   {
    "duration": 33,
    "start_time": "2023-06-26T17:38:35.886Z"
   },
   {
    "duration": 1725,
    "start_time": "2023-06-26T17:38:35.921Z"
   },
   {
    "duration": 156,
    "start_time": "2023-06-26T17:38:37.648Z"
   },
   {
    "duration": 8,
    "start_time": "2023-06-26T17:38:37.806Z"
   },
   {
    "duration": 473,
    "start_time": "2023-06-26T17:38:37.817Z"
   },
   {
    "duration": 1478,
    "start_time": "2023-06-26T17:45:43.202Z"
   },
   {
    "duration": 71,
    "start_time": "2023-06-26T17:45:44.682Z"
   },
   {
    "duration": 30,
    "start_time": "2023-06-26T17:45:44.755Z"
   },
   {
    "duration": 15,
    "start_time": "2023-06-26T17:45:44.787Z"
   },
   {
    "duration": 25,
    "start_time": "2023-06-26T17:45:44.803Z"
   },
   {
    "duration": 54,
    "start_time": "2023-06-26T17:45:44.830Z"
   },
   {
    "duration": 1603,
    "start_time": "2023-06-26T17:45:44.886Z"
   },
   {
    "duration": 149,
    "start_time": "2023-06-26T17:45:46.490Z"
   },
   {
    "duration": 18,
    "start_time": "2023-06-26T17:45:46.641Z"
   },
   {
    "duration": 450,
    "start_time": "2023-06-26T17:45:46.661Z"
   },
   {
    "duration": 112,
    "start_time": "2023-06-26T17:45:47.112Z"
   },
   {
    "duration": 1426,
    "start_time": "2023-06-26T17:45:59.471Z"
   },
   {
    "duration": 1432,
    "start_time": "2023-06-26T17:46:29.548Z"
   },
   {
    "duration": 1549,
    "start_time": "2023-06-26T17:53:06.025Z"
   },
   {
    "duration": 76,
    "start_time": "2023-06-26T17:53:07.577Z"
   },
   {
    "duration": 27,
    "start_time": "2023-06-26T17:53:07.655Z"
   },
   {
    "duration": 18,
    "start_time": "2023-06-26T17:53:07.684Z"
   },
   {
    "duration": 56,
    "start_time": "2023-06-26T17:53:07.703Z"
   },
   {
    "duration": 36,
    "start_time": "2023-06-26T17:53:07.760Z"
   },
   {
    "duration": 1727,
    "start_time": "2023-06-26T17:53:07.798Z"
   },
   {
    "duration": 154,
    "start_time": "2023-06-26T17:53:09.526Z"
   },
   {
    "duration": 7,
    "start_time": "2023-06-26T17:53:09.682Z"
   },
   {
    "duration": 415,
    "start_time": "2023-06-26T17:53:09.691Z"
   },
   {
    "duration": 1465,
    "start_time": "2023-06-26T17:53:10.108Z"
   },
   {
    "duration": 240,
    "start_time": "2023-06-27T09:33:56.999Z"
   }
  ],
  "kernelspec": {
   "display_name": "Python 3 (ipykernel)",
   "language": "python",
   "name": "python3"
  },
  "language_info": {
   "codemirror_mode": {
    "name": "ipython",
    "version": 3
   },
   "file_extension": ".py",
   "mimetype": "text/x-python",
   "name": "python",
   "nbconvert_exporter": "python",
   "pygments_lexer": "ipython3",
   "version": "3.10.9"
  },
  "toc": {
   "base_numbering": 1,
   "nav_menu": {
    "height": "250px",
    "width": "370px"
   },
   "number_sections": true,
   "sideBar": true,
   "skip_h1_title": true,
   "title_cell": "Table of Contents",
   "title_sidebar": "Contents",
   "toc_cell": false,
   "toc_position": {},
   "toc_section_display": true,
   "toc_window_display": false
  }
 },
 "nbformat": 4,
 "nbformat_minor": 2
}
